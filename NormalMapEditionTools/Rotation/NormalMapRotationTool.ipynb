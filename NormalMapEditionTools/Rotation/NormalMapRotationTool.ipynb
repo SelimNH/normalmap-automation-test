{
 "cells": [
  {
   "cell_type": "code",
   "execution_count": null,
   "metadata": {},
   "outputs": [],
   "source": [
    "import sys\n",
    "sys.path.append('../../Utils/')\n",
    "\n",
    "# from utils import show\n",
    "import cv2\n",
    "import os\n",
    "import json\n",
    "from skimage.io import imread\n",
    "import numpy as np\n",
    "from PIL import Image\n",
    "\n",
    "%load_ext autoreload\n",
    "%autoreload 2"
   ]
  },
  {
   "cell_type": "code",
   "execution_count": null,
   "metadata": {},
   "outputs": [],
   "source": [
    "input_dir = 'Inputs'\n",
    "output_dir = 'Outputs'\n",
    "\n",
    "input_file = 'TEST_FLOOR_Concrete_01a_N.png'\n",
    "output_file = input_file.replace('.png', '_output.png')\n",
    "\n",
    "input_path = os.path.join(input_dir, input_file)\n",
    "\n",
    "image = Image.open(input_path)\n",
    "display(image)"
   ]
  },
  {
   "cell_type": "code",
   "execution_count": 71,
   "metadata": {},
   "outputs": [],
   "source": [
    "def rotate_image_x(image, angle):\n",
    "    angle = np.deg2rad(angle)\n",
    "    normal_map = np.array(image).astype(np.float32) / 255.0 \n",
    "\n",
    "    # print(angle)\n",
    "    cos_angle = np.cos(angle)\n",
    "    sin_angle = np.sin(angle)\n",
    "\n",
    "    rotation_matrix = np.array([\n",
    "            [1, 0,          0         ],\n",
    "            [0, cos_angle, -sin_angle],\n",
    "            [0, sin_angle,  cos_angle]\n",
    "        ])\n",
    "\n",
    "    height, width, _ = normal_map.shape\n",
    "    for y in range(height):\n",
    "        for x in range(width):\n",
    "            nx = normal_map[y, x, 0] * 2.0 - 1.0\n",
    "            ny = normal_map[y, x, 1] * 2.0 - 1.0\n",
    "            nz = normal_map[y, x, 2] * 2.0 - 1.0\n",
    "\n",
    "            normal = np.array([nx, ny, nz])\n",
    "\n",
    "            rotated_normal = np.dot(rotation_matrix, normal)\n",
    "\n",
    "            rotated_normal = rotated_normal / np.linalg.norm(rotated_normal)\n",
    "\n",
    "            normal_map[y, x, 0] = (rotated_normal[0] + 1.0) / 2.0\n",
    "            normal_map[y, x, 1] = (rotated_normal[1] + 1.0) / 2.0\n",
    "            normal_map[y, x, 2] = (rotated_normal[2] + 1.0) / 2.0\n",
    "\n",
    "    rotated_image = (normal_map * 255).astype(np.uint8)\n",
    "    output_image = Image.fromarray(rotated_image) \n",
    "    save_path = os.path.join(output_dir, output_file)\n",
    "    output_image.save(save_path)\n",
    "    print(f'Saved to {save_path}')\n",
    "    display(output_image)\n",
    "    return output_image"
   ]
  },
  {
   "cell_type": "code",
   "execution_count": 72,
   "metadata": {},
   "outputs": [],
   "source": [
    "def rotate_image_z(image, angle):\n",
    "    angle = np.deg2rad(angle)\n",
    "    normal_map = np.array(image).astype(np.float32) / 255.0\n",
    "\n",
    "    # print(angle)\n",
    "    cos_angle = np.cos(angle)\n",
    "    sin_angle = np.sin(angle)\n",
    "\n",
    "    rotation_matrix = np.array([\n",
    "        [cos_angle, -sin_angle, 0],\n",
    "        [sin_angle,  cos_angle, 0],\n",
    "        [0,          0,         1]\n",
    "    ])\n",
    "\n",
    "    height, width, _ = normal_map.shape\n",
    "    for y in range(height):\n",
    "        for x in range(width):\n",
    "            nx = normal_map[y, x, 0] * 2.0 - 1.0\n",
    "            ny = normal_map[y, x, 1] * 2.0 - 1.0\n",
    "            nz = normal_map[y, x, 2] * 2.0 - 1.0\n",
    "\n",
    "            normal = np.array([nx, ny, nz])\n",
    "\n",
    "            rotated_normal = np.dot(rotation_matrix, normal)\n",
    "\n",
    "            rotated_normal = rotated_normal / np.linalg.norm(rotated_normal)\n",
    "            \n",
    "            normal_map[y, x, 0] = (rotated_normal[0] + 1.0) / 2.0\n",
    "            normal_map[y, x, 1] = (rotated_normal[1] + 1.0) / 2.0\n",
    "            normal_map[y, x, 2] = (rotated_normal[2] + 1.0) / 2.0\n",
    "\n",
    "    rotated_image = (normal_map * 255).astype(np.uint8)\n",
    "    output_image = Image.fromarray(rotated_image)\n",
    "    save_path = os.path.join(output_dir, output_file)\n",
    "    output_image.save(save_path)\n",
    "    print('Saved to', save_path)\n",
    "    display(output_image)\n",
    "    return output_image"
   ]
  },
  {
   "cell_type": "code",
   "execution_count": null,
   "metadata": {},
   "outputs": [],
   "source": [
    "rotate_image_x(image, 60)\n"
   ]
  },
  {
   "cell_type": "code",
   "execution_count": null,
   "metadata": {},
   "outputs": [],
   "source": [
    "input_dir = 'Inputs'\n",
    "output_dir = 'Outputs'\n",
    "\n",
    "# List all files in the input directory\n",
    "files = os.listdir(input_dir)\n",
    "files = [f for f in files if f.endswith('.png')]\n",
    "\n",
    "for file in files:\n",
    "    input_path = os.path.join(input_dir, file)\n",
    "    output_path = os.path.join(output_dir, file)\n",
    "\n",
    "    image = Image.open(input_path)\n",
    "    display(image)\n",
    "    rotated_image = rotate_image_x(image, 53)\n",
    "    rotated_image.save(output_path)\n"
   ]
  },
  {
   "cell_type": "code",
   "execution_count": null,
   "metadata": {},
   "outputs": [],
   "source": []
  }
 ],
 "metadata": {
  "kernelspec": {
   "display_name": "Python 3",
   "language": "python",
   "name": "python3"
  },
  "language_info": {
   "codemirror_mode": {
    "name": "ipython",
    "version": 3
   },
   "file_extension": ".py",
   "mimetype": "text/x-python",
   "name": "python",
   "nbconvert_exporter": "python",
   "pygments_lexer": "ipython3",
   "version": "3.9.6"
  }
 },
 "nbformat": 4,
 "nbformat_minor": 2
}
