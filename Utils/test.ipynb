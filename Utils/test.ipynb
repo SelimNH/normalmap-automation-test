{
 "cells": [
  {
   "cell_type": "code",
   "execution_count": 4,
   "metadata": {},
   "outputs": [
    {
     "name": "stdout",
     "output_type": "stream",
     "text": [
      "../Inputs/tree-1.png\n",
      "../Inputs/inuhiro_original.png\n",
      "../Inputs/road-crosswalk.png\n",
      "../Inputs/bush-2.png\n",
      "../Inputs/building-simple-1.png\n",
      "../Inputs/traffic-cone.png\n"
     ]
    }
   ],
   "source": [
    "# List all the images in the Inputs folder \n",
    "\n",
    "import os\n",
    "\n",
    "def list_images():\n",
    "    images = []\n",
    "    for root, dirs, files in os.walk(\"../Inputs\"):\n",
    "        for file in files:\n",
    "            if file.endswith(\".png\"):\n",
    "                images.append(os.path.join(root, file))\n",
    "    return images\n",
    "\n",
    "for image in list_images():\n",
    "    print(image)"
   ]
  },
  {
   "cell_type": "code",
   "execution_count": null,
   "metadata": {},
   "outputs": [],
   "source": []
  }
 ],
 "metadata": {
  "kernelspec": {
   "display_name": "Python 3",
   "language": "python",
   "name": "python3"
  },
  "language_info": {
   "codemirror_mode": {
    "name": "ipython",
    "version": 3
   },
   "file_extension": ".py",
   "mimetype": "text/x-python",
   "name": "python",
   "nbconvert_exporter": "python",
   "pygments_lexer": "ipython3",
   "version": "3.9.6"
  }
 },
 "nbformat": 4,
 "nbformat_minor": 2
}
